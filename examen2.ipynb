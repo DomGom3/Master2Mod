{
 "cells": [
  {
   "cell_type": "markdown",
   "metadata": {},
   "source": [
    "# Importe de Librerías"
   ]
  },
  {
   "cell_type": "code",
   "execution_count": null,
   "metadata": {},
   "outputs": [],
   "source": [
    "import pandas as pd\n",
    "import numpy as np\n",
    "import seaborn as sn\n",
    "import matplotlib.pyplot as plt\n",
    "from sklearn.metrics import confusion_matrix, ConfusionMatrixDisplay"
   ]
  },
  {
   "cell_type": "markdown",
   "metadata": {},
   "source": [
    "# Carga de Datos"
   ]
  },
  {
   "cell_type": "code",
   "execution_count": null,
   "metadata": {},
   "outputs": [],
   "source": [
    "df_data= pd.read_csv(\"data/breast-cancer-wisconsin.data\")\n",
    "df_data"
   ]
  },
  {
   "cell_type": "markdown",
   "metadata": {},
   "source": [
    "# Observación y Preprocesamiento"
   ]
  },
  {
   "cell_type": "code",
   "execution_count": null,
   "metadata": {},
   "outputs": [],
   "source": [
    "df_data.info()"
   ]
  },
  {
   "cell_type": "code",
   "execution_count": null,
   "metadata": {},
   "outputs": [],
   "source": [
    "duplicates = df_data.duplicated(\"ID_Number\", keep=False)\n",
    "print('duplicados',df_data[duplicates])\n",
    "df_data=df_data.drop_duplicates(subset=[\"ID_Number\"])\n",
    "df_data"
   ]
  },
  {
   "cell_type": "code",
   "execution_count": null,
   "metadata": {},
   "outputs": [],
   "source": [
    "null_columns= df_data.columns[df_data.isnull().any()]\n",
    "print(df_data[null_columns].isnull().sum())\n"
   ]
  },
  {
   "cell_type": "code",
   "execution_count": null,
   "metadata": {},
   "outputs": [],
   "source": [
    "Index_BareNuclei = df_data[df_data[\"Bare_Nuclei\"]==\"?\"].index\n",
    "Index_BareNuclei\n",
    "df_data.drop(Index_BareNuclei,inplace=True)\n",
    "df_data\n",
    "\n"
   ]
  },
  {
   "cell_type": "code",
   "execution_count": null,
   "metadata": {},
   "outputs": [],
   "source": [
    "corr=df_data.corr()\n",
    "sn.heatmap(corr, annot=True)\n",
    "plt.show()"
   ]
  },
  {
   "cell_type": "code",
   "execution_count": null,
   "metadata": {},
   "outputs": [],
   "source": [
    "df_data[\"Bare_Nuclei\"]=df_data[\"Bare_Nuclei\"].astype(np.int64)\n",
    "df_data.info()"
   ]
  },
  {
   "cell_type": "markdown",
   "metadata": {},
   "source": [
    "# MODELOS"
   ]
  },
  {
   "cell_type": "markdown",
   "metadata": {},
   "source": [
    "### KVECINOS:"
   ]
  },
  {
   "cell_type": "code",
   "execution_count": null,
   "metadata": {},
   "outputs": [],
   "source": [
    "# Sin bucle plantilla basica\n",
    "from sklearn.neighbors import KNeighborsClassifier\n",
    "\n",
    "#from sklearn.datasets import load_iris\n",
    "from sklearn.model_selection import train_test_split\n",
    "\n",
    "X = df_data[['Clump_Thickness', 'Uniformity_Cell_Size', 'Uniformity_Cell_Shape','Marginal_Adhesion','Single_Epithelial_Cell_Size','Bare_Nuclei','Bland_Chromatin']]\n",
    "y = df_data[['Class']]\n",
    "\n",
    "X_train, X_test, y_train, y_test = train_test_split(X, y, stratify=y, test_size=0.3, random_state=33)\n",
    "\n",
    "for p in range(1,30):\n",
    "    model = KNeighborsClassifier(n_neighbors=p)\n",
    "   \n",
    "    model.fit(X_train, y_train)\n",
    "\n",
    "    print('p = ',p)\n",
    "    print(f\"Error training: {(1 - model.score(X_train, y_train)) * 100} %\")\n",
    "    print(f\"Error test: {(1 - model.score(X_test, y_test)) * 100} %\")\n",
    "    print(\"\")\n"
   ]
  },
  {
   "cell_type": "code",
   "execution_count": null,
   "metadata": {},
   "outputs": [],
   "source": [
    "model = KNeighborsClassifier(n_neighbors=6)\n",
    "model.fit(X_train, y_train)\n",
    "y_predict=model.predict(X_test)"
   ]
  },
  {
   "cell_type": "code",
   "execution_count": null,
   "metadata": {},
   "outputs": [],
   "source": [
    "def plot_confusion_matrix(X, y, model):\n",
    "    y_pred = model.predict(X)\n",
    "    cm = confusion_matrix(y, y_pred, labels=model.classes_)\n",
    "    disp = ConfusionMatrixDisplay(confusion_matrix=cm,\n",
    "                                  display_labels=model.classes_)\n",
    "    disp.plot()\n",
    "\n",
    "    plt.show()\n"
   ]
  },
  {
   "cell_type": "code",
   "execution_count": null,
   "metadata": {},
   "outputs": [],
   "source": [
    "print(\"Training confusion matrix\")\n",
    "plot_confusion_matrix(X_train, y_train, model)\n",
    "print(\"Test confusion matrix\")\n",
    "plot_confusion_matrix(X_test, y_test, model)"
   ]
  },
  {
   "cell_type": "markdown",
   "metadata": {},
   "source": [
    "### ARBOL DE DECISIÓN:"
   ]
  },
  {
   "cell_type": "code",
   "execution_count": null,
   "metadata": {},
   "outputs": [],
   "source": [
    "from sklearn.tree import DecisionTreeClassifier\n",
    "from sklearn.model_selection import train_test_split\n",
    "\n",
    "X = df_data[['Clump_Thickness', 'Uniformity_Cell_Size', 'Uniformity_Cell_Shape','Marginal_Adhesion','Single_Epithelial_Cell_Size','Bare_Nuclei','Bland_Chromatin']]\n",
    "y = df_data[['Class']]\n",
    "\n",
    "X_train, X_test, y_train, y_test = train_test_split(X, y, stratify=y, test_size=0.3, random_state=33)\n",
    "\n",
    "for p in range(1,30):\n",
    "    model = DecisionTreeClassifier(criterion=\"gini\", max_depth=p, random_state=33)\n",
    "\n",
    "    model.fit(X_train, y_train)\n",
    "\n",
    "    print('p = ',p)\n",
    "    print(f\"Error training: {(1 - model.score(X_train, y_train)) * 100} %\")\n",
    "    print(f\"Error test: {(1 - model.score(X_test, y_test)) * 100} %\")\n",
    "    print(\"\")"
   ]
  },
  {
   "cell_type": "code",
   "execution_count": null,
   "metadata": {},
   "outputs": [],
   "source": [
    "model = DecisionTreeClassifier(criterion=\"gini\", max_depth=5)\n",
    "model.fit(X_train, y_train)\n",
    "y_predict=model.predict(X_test)"
   ]
  },
  {
   "cell_type": "code",
   "execution_count": null,
   "metadata": {},
   "outputs": [],
   "source": [
    "print(\"Training confusion matrix\")\n",
    "plot_confusion_matrix(X_train, y_train, model)\n",
    "print(\"Test confusion matrix\")\n",
    "plot_confusion_matrix(X_test, y_test, model)"
   ]
  },
  {
   "cell_type": "markdown",
   "metadata": {},
   "source": [
    "### RANDOM FOREST"
   ]
  },
  {
   "cell_type": "code",
   "execution_count": null,
   "metadata": {},
   "outputs": [],
   "source": [
    "from sklearn.ensemble import RandomForestClassifier\n",
    "from sklearn.model_selection import train_test_split\n",
    "\n",
    "X = df_data[['Clump_Thickness', 'Uniformity_Cell_Size', 'Uniformity_Cell_Shape','Marginal_Adhesion','Single_Epithelial_Cell_Size','Bare_Nuclei','Bland_Chromatin']]\n",
    "y = df_data[['Class']]\n",
    "\n",
    "X_train, X_test, y_train, y_test = train_test_split(X, y, stratify=y, test_size=0.3, random_state=33)\n",
    "\n",
    "for p in range(1,30):\n",
    "    model = RandomForestClassifier(max_depth=p)\n",
    "\n",
    "    model.fit(X_train, y_train)\n",
    "\n",
    "    print('p = ',p)\n",
    "    print(f\"Error training: {(1 - model.score(X_train, y_train)) * 100} %\")\n",
    "    print(f\"Error test: {(1 - model.score(X_test, y_test)) * 100} %\")\n",
    "    print(\"\")"
   ]
  },
  {
   "cell_type": "code",
   "execution_count": null,
   "metadata": {},
   "outputs": [],
   "source": [
    "model = RandomForestClassifier(max_depth=6)\n",
    "model.fit(X_train, y_train)\n",
    "y_predict=model.predict(X_test)"
   ]
  },
  {
   "cell_type": "code",
   "execution_count": null,
   "metadata": {},
   "outputs": [],
   "source": [
    "print(\"Training confusion matrix\")\n",
    "plot_confusion_matrix(X_train, y_train, model)\n",
    "print(\"Test confusion matrix\")\n",
    "plot_confusion_matrix(X_test, y_test, model)"
   ]
  },
  {
   "cell_type": "markdown",
   "metadata": {},
   "source": [
    "# **CONCLUSIÓN**\n",
    "\n",
    "Se aplico 3 modelos distintos al data set, de los cuales se puede observar en la matriz de confusión que el modelo que nos proporciona menor cantidad de falsos negativos es el modelo Random Forest con profundidad 5 que en los datos de prueba nos arroja 2 falsos negativos."
   ]
  }
 ],
 "metadata": {
  "kernelspec": {
   "display_name": "Python 3.11.0 64-bit",
   "language": "python",
   "name": "python3"
  },
  "language_info": {
   "codemirror_mode": {
    "name": "ipython",
    "version": 3
   },
   "file_extension": ".py",
   "mimetype": "text/x-python",
   "name": "python",
   "nbconvert_exporter": "python",
   "pygments_lexer": "ipython3",
   "version": "3.11.0"
  },
  "orig_nbformat": 4,
  "vscode": {
   "interpreter": {
    "hash": "aae0a498b6c59e62508cf4e318ddf5d38ddd6f9adb185865e3132de47796d04b"
   }
  }
 },
 "nbformat": 4,
 "nbformat_minor": 2
}
